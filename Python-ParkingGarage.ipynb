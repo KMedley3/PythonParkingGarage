{
 "cells": [
  {
   "cell_type": "code",
   "execution_count": 6,
   "id": "79874190",
   "metadata": {},
   "outputs": [
    {
     "name": "stdout",
     "output_type": "stream",
     "text": [
      "Would you like to enter or exit? enter/exit: enter\n",
      "Thanks for parking! \n",
      "Would you like to enter or exit? enter/exit: exit\n",
      "Your total is ten dollars, enter '10' to exit. 5\n",
      "I said ten dollars, don't make me angry!\n",
      "Your total is ten dollars, enter '10' to exit. 10\n",
      "Your ticket is now paid, you have 15 minutes to leave.\n",
      "Thank you, have a nice day. \n"
     ]
    }
   ],
   "source": [
    "class parkGarage():\n",
    "    \n",
    "    def __init__(self):\n",
    "        self.tickets = 20\n",
    "        self.spaces = 20\n",
    "        self.currentTicket = {'paid': False}\n",
    "    def taketicket(self):\n",
    "        print(\"Thanks for parking! \")\n",
    "        self.tickets - 1\n",
    "        self.spaces - 1\n",
    "            \n",
    "    def payForParking(self):\n",
    "        payUp = int(input(\"Your total is ten dollars, enter '10' to exit. \"))\n",
    "        if payUp == 10:\n",
    "            print(\"Your ticket is now paid, you have 15 minutes to leave.\")\n",
    "            self.currentTicket.update({'paid': True})\n",
    "        else:\n",
    "            print(\"I said ten dollars, don't make me angry!\")\n",
    "            self.payForParking()\n",
    "            \n",
    "        \n",
    "#         while payUp < 15:\n",
    "#             remaining = 15 - payUp\n",
    "#             needMore = int(input(\"You have \" + {remaining} + \" left to pay.\" ))\n",
    "#         else:\n",
    "#             pass\n",
    "#         if payUp > 15:\n",
    "#             change = payUp - 15\n",
    "#             print(\"Your change is \" + {change} + \". Please take your change. \")\n",
    "#             print(\"Your ticket is now paid, you have 15 minutes to leave.\")\n",
    "#             self.currentTicket.update({'paid': True})\n",
    "            \n",
    "#         elif payUp == 15:\n",
    "#             print(\"Your ticket is now paid, you have 15 minutes to leave.\")\n",
    "#              self.currentTicket.update({'paid': True})\n",
    "    \n",
    "    \n",
    "    def leaveGarage(self):\n",
    "        if self.currentTicket['paid'] == True:\n",
    "            print(\"Thank you, have a nice day. \")\n",
    "            self.spaces += 1\n",
    "            self.tickets += 1\n",
    "            return\n",
    "        elif self.currentTicket['paid'] == False:\n",
    "            self.payForParking()       \n",
    "            \n",
    "        \n",
    "next_vehicle = parkGarage()\n",
    "while True:      \n",
    "    garage_door = input(\"Would you like to enter or exit? enter/exit: \")\n",
    "    if garage_door == \"enter\":\n",
    "        next_vehicle.taketicket()\n",
    "    elif garage_door == \"exit\":\n",
    "        next_vehicle.payForParking()\n",
    "        next_vehicle.leaveGarage()\n",
    "        break\n",
    "    \n",
    "    \n",
    "     "
   ]
  },
  {
   "cell_type": "code",
   "execution_count": null,
   "id": "24ac128f",
   "metadata": {},
   "outputs": [],
   "source": []
  },
  {
   "cell_type": "code",
   "execution_count": null,
   "id": "40382e98",
   "metadata": {},
   "outputs": [],
   "source": []
  }
 ],
 "metadata": {
  "kernelspec": {
   "display_name": "Python 3 (ipykernel)",
   "language": "python",
   "name": "python3"
  },
  "language_info": {
   "codemirror_mode": {
    "name": "ipython",
    "version": 3
   },
   "file_extension": ".py",
   "mimetype": "text/x-python",
   "name": "python",
   "nbconvert_exporter": "python",
   "pygments_lexer": "ipython3",
   "version": "3.9.13"
  }
 },
 "nbformat": 4,
 "nbformat_minor": 5
}
